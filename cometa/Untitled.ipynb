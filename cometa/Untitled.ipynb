{
 "cells": [
  {
   "cell_type": "code",
   "execution_count": 1,
   "id": "406f35e6",
   "metadata": {},
   "outputs": [],
   "source": [
    "import yandex_music\n",
    "import os\n",
    "import pathlib\n",
    "import jsbeautifier"
   ]
  },
  {
   "cell_type": "code",
   "execution_count": 2,
   "id": "642ff396",
   "metadata": {},
   "outputs": [],
   "source": [
    "USER_TAG_PREFIX = 'sweetall'\n",
    "USER_YANDEX_MUSIC_TOKEN = 'AQAAAAABXPQDAAG8XnMPg_r6L0JCtc_Ehhrs-hA'\n",
    "USER_SAVE_DIRECTORY = '!Cometa'"
   ]
  },
  {
   "cell_type": "code",
   "execution_count": 3,
   "id": "8c7a9b90",
   "metadata": {},
   "outputs": [],
   "source": [
    "def get_download_path(nested_path):\n",
    "    \"\"\"Returns the default downloads path for Linux or Windows\"\"\"\n",
    "    if os.name == 'nt':\n",
    "        import winreg\n",
    "        sub_key = r'SOFTWARE\\Microsoft\\Windows\\CurrentVersion\\Explorer\\Shell Folders'\n",
    "        downloads_guid = '{374DE290-123F-4565-9164-39C4925E467B}'\n",
    "        with winreg.OpenKey(winreg.HKEY_CURRENT_USER, sub_key) as key:\n",
    "            downloads = pathlib.Path(winreg.QueryValueEx(key, downloads_guid)[0])\n",
    "    else:\n",
    "        downloads = pathlib.Path.joinpath(os.path.expanduser('~'), 'Downloads')\n",
    "    return downloads.joinpath(nested_path)"
   ]
  },
  {
   "cell_type": "code",
   "execution_count": 4,
   "id": "d86e79b5",
   "metadata": {},
   "outputs": [],
   "source": [
    "save_path = get_download_path(USER_SAVE_DIRECTORY)"
   ]
  },
  {
   "cell_type": "code",
   "execution_count": 5,
   "id": "698fa4c3",
   "metadata": {},
   "outputs": [
    {
     "name": "stdout",
     "output_type": "stream",
     "text": [
      "Yandex Music API v2.0.1, Copyright (C) 2019-2022 Il`ya (Marshal) <https://github.com/MarshalX>\n",
      "Licensed under the terms of the GNU Lesser General Public License v3 (LGPLv3)\n",
      "\n"
     ]
    }
   ],
   "source": [
    "ya_music = yandex_music.Client(USER_YANDEX_MUSIC_TOKEN).init()"
   ]
  },
  {
   "cell_type": "code",
   "execution_count": 6,
   "id": "fe884542",
   "metadata": {},
   "outputs": [
    {
     "name": "stdout",
     "output_type": "stream",
     "text": [
      "{\n",
      "    'logger': < Logger yandex_music.client(WARNING) > ,\n",
      "    'token': 'AQAAAAABXPQDAAG8XnMPg_r6L0JCtc_Ehhrs-hA',\n",
      "    'base_url': 'https://api.music.yandex.net',\n",
      "    'report_unknown_fields': False,\n",
      "    '_request': < yandex_music.utils.request.Request object at 0x000001F1FF2772E0 > ,\n",
      "    'language': 'ru',\n",
      "    'device': 'os=Python; os_version=; manufacturer=Marshal; model=Yandex Music API; clid=; device_id=random; uuid=random',\n",
      "    'me': {\n",
      "        'account': {\n",
      "            'now': '2022-10-04T17:56:58+00:00',\n",
      "            'service_available': True,\n",
      "            'region': 225,\n",
      "            'uid': 22868995,\n",
      "            'login': 'asmfc',\n",
      "            'full_name': 'Мотор Саша',\n",
      "            'second_name': 'Мотор',\n",
      "            'first_name': 'Саша',\n",
      "            'display_name': 'Саша Мотор',\n",
      "            'hosted_user': False,\n",
      "            'birthday': '1987-06-04',\n",
      "            'passport_phones': [{\n",
      "                'phone': '+79060597475'\n",
      "            }],\n",
      "            'registered_at': '2015-01-20T15:07:38+00:00',\n",
      "            'has_info_for_app_metrica': False\n",
      "        },\n",
      "        'permissions': {\n",
      "            'until': '2022-10-26T06:55:50+00:00',\n",
      "            'values': ['landing-play', 'feed-play', 'radio-play', 'mix-play', 'radio-skips', 'library-cache', 'library-play', 'high-quality', 'ads-skips', 'non-shuffled-play', 'background-play', 'play-premium-tracks', 'auto-flow', 'play-full-tracks', 'play-radio-full-tracks'],\n",
      "            'default': ['landing-play', 'feed-play', 'radio-play', 'mix-play', 'play-radio-full-tracks']\n",
      "        },\n",
      "        'advertisement': 'Оформите постоянную подписку – первый месяц бесплатно!',\n",
      "        'subscription': {\n",
      "            'non_auto_renewable_remainder': {\n",
      "                'days': 0\n",
      "            },\n",
      "            'auto_renewable': [{\n",
      "                'expires': '2022-10-26T09:55:50+03:00',\n",
      "                'vendor': 'Yandex',\n",
      "                'vendor_help_url': 'https://www.yandex.ru/support/music-app/subscription.xml',\n",
      "                'product': {\n",
      "                    'product_id': 'ru.yandex.plus.mercury.common-p30d-169rub/299rub',\n",
      "                    'type': 'subscription',\n",
      "                    'common_period_duration': 'P30D',\n",
      "                    'duration': 30,\n",
      "                    'trial_duration': 0,\n",
      "                    'price': {\n",
      "                        'amount': 169.0,\n",
      "                        'currency': 'RUB'\n",
      "                    },\n",
      "                    'feature': 'new-plus',\n",
      "                    'debug': False,\n",
      "                    'plus': True,\n",
      "                    'cheapest': None,\n",
      "                    'title': None,\n",
      "                    'family_sub': None,\n",
      "                    'fb_image': None,\n",
      "                    'fb_name': None,\n",
      "                    'family': True,\n",
      "                    'features': ['basic-music', 'passport-family', 'music-src-default', 'basic-kinopoisk', 'basic-plus'],\n",
      "                    'description': None,\n",
      "                    'available': None,\n",
      "                    'trial_available': None,\n",
      "                    'trial_period_duration': None,\n",
      "                    'intro_period_duration': None,\n",
      "                    'intro_price': None,\n",
      "                    'start_period_duration': None,\n",
      "                    'start_price': None,\n",
      "                    'licence_text_parts': [],\n",
      "                    'vendor_trial_available': None,\n",
      "                    'button_text': None,\n",
      "                    'button_additional_text': None,\n",
      "                    'payment_method_types': None\n",
      "                },\n",
      "                'finished': False,\n",
      "                'master_info': None,\n",
      "                'product_id': 'ru.yandex.plus.mercury.common-p30d-169rub/299rub',\n",
      "                'order_id': 373185149\n",
      "            }],\n",
      "            'family_auto_renewable': [],\n",
      "            'operator': [],\n",
      "            'non_auto_renewable': None,\n",
      "            'can_start_trial': False,\n",
      "            'mcdonalds': False,\n",
      "            'end': None\n",
      "        },\n",
      "        'cache_limit': None,\n",
      "        'subeditor': False,\n",
      "        'subeditor_level': 0,\n",
      "        'plus': {\n",
      "            'has_plus': True,\n",
      "            'is_tutorial_completed': True\n",
      "        },\n",
      "        'default_email': 'asmfc@yandex.ru',\n",
      "        'skips_per_hour': None,\n",
      "        'station_exists': None,\n",
      "        'station_data': None,\n",
      "        'bar_below': None,\n",
      "        'premium_region': None,\n",
      "        'experiment': None\n",
      "    }\n",
      "}\n"
     ]
    }
   ],
   "source": [
    "print(jsbeautifier.beautify(str(ya_music)))"
   ]
  },
  {
   "cell_type": "code",
   "execution_count": 7,
   "id": "34e28c28",
   "metadata": {},
   "outputs": [],
   "source": [
    "ya_music.users_likes_tracks()[1].fetch_track().download(save_path.joinpath(\"2.mp3\"), 'mp3', 320)"
   ]
  },
  {
   "cell_type": "code",
   "execution_count": 8,
   "id": "c09401bb",
   "metadata": {},
   "outputs": [
    {
     "data": {
      "text/plain": [
       "os.stat_result(st_mode=33206, st_ino=9288674231788532, st_dev=3226216427, st_nlink=1, st_uid=0, st_gid=0, st_size=12449959, st_atime=1664905239, st_mtime=1664905214, st_ctime=1664874970)"
      ]
     },
     "execution_count": 8,
     "metadata": {},
     "output_type": "execute_result"
    }
   ],
   "source": [
    "save_path.joinpath(\"1.mp3\").stat()"
   ]
  },
  {
   "cell_type": "code",
   "execution_count": null,
   "id": "51de6ae4",
   "metadata": {},
   "outputs": [],
   "source": []
  }
 ],
 "metadata": {
  "kernelspec": {
   "display_name": "Python 3 (ipykernel)",
   "language": "python",
   "name": "python3"
  },
  "language_info": {
   "codemirror_mode": {
    "name": "ipython",
    "version": 3
   },
   "file_extension": ".py",
   "mimetype": "text/x-python",
   "name": "python",
   "nbconvert_exporter": "python",
   "pygments_lexer": "ipython3",
   "version": "3.10.6"
  },
  "toc": {
   "base_numbering": 1,
   "nav_menu": {},
   "number_sections": true,
   "sideBar": true,
   "skip_h1_title": true,
   "title_cell": "Содержание",
   "title_sidebar": "Содержание",
   "toc_cell": false,
   "toc_position": {},
   "toc_section_display": true,
   "toc_window_display": false
  }
 },
 "nbformat": 4,
 "nbformat_minor": 5
}
