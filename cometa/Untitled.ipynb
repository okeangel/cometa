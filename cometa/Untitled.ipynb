{
 "cells": [
  {
   "cell_type": "code",
   "execution_count": 1,
   "id": "406f35e6",
   "metadata": {},
   "outputs": [],
   "source": [
    "import yandex_music\n",
    "import os\n",
    "import pathlib\n",
    "import jsbeautifier\n",
    "import urllib.request"
   ]
  },
  {
   "cell_type": "code",
   "execution_count": 2,
   "id": "642ff396",
   "metadata": {},
   "outputs": [],
   "source": [
    "USER_TAG_PREFIX = 'sweetall'\n",
    "USER_YANDEX_MUSIC_TOKEN = 'AQAAAAABXPQDAAG8XnMPg_r6L0JCtc_Ehhrs-hA'\n",
    "USER_SAVE_DIRECTORY = '!Cometa'"
   ]
  },
  {
   "cell_type": "code",
   "execution_count": 3,
   "id": "8c7a9b90",
   "metadata": {},
   "outputs": [],
   "source": [
    "def get_download_path(nested_path):\n",
    "    \"\"\"Returns the default downloads path for Linux or Windows\"\"\"\n",
    "    if os.name == 'nt':\n",
    "        import winreg\n",
    "        sub_key = r'SOFTWARE\\Microsoft\\Windows\\CurrentVersion\\Explorer\\Shell Folders'\n",
    "        downloads_guid = '{374DE290-123F-4565-9164-39C4925E467B}'\n",
    "        with winreg.OpenKey(winreg.HKEY_CURRENT_USER, sub_key) as key:\n",
    "            downloads = pathlib.Path(winreg.QueryValueEx(key, downloads_guid)[0])\n",
    "    else:\n",
    "        downloads = pathlib.Path.joinpath(os.path.expanduser('~'), 'Downloads')\n",
    "    return downloads.joinpath(nested_path)"
   ]
  },
  {
   "cell_type": "code",
   "execution_count": 4,
   "id": "d86e79b5",
   "metadata": {},
   "outputs": [],
   "source": [
    "save_path = get_download_path(USER_SAVE_DIRECTORY)"
   ]
  },
  {
   "cell_type": "code",
   "execution_count": 5,
   "id": "698fa4c3",
   "metadata": {},
   "outputs": [
    {
     "name": "stdout",
     "output_type": "stream",
     "text": [
      "Yandex Music API v2.0.1, Copyright (C) 2019-2022 Il`ya (Marshal) <https://github.com/MarshalX>\n",
      "Licensed under the terms of the GNU Lesser General Public License v3 (LGPLv3)\n",
      "\n"
     ]
    }
   ],
   "source": [
    "ya_music = yandex_music.Client(USER_YANDEX_MUSIC_TOKEN).init()"
   ]
  },
  {
   "cell_type": "code",
   "execution_count": 6,
   "id": "fe884542",
   "metadata": {},
   "outputs": [
    {
     "name": "stdout",
     "output_type": "stream",
     "text": [
      "{\n",
      "    'logger': < Logger yandex_music.client(WARNING) > ,\n",
      "    'token': 'AQAAAAABXPQDAAG8XnMPg_r6L0JCtc_Ehhrs-hA',\n",
      "    'base_url': 'https://api.music.yandex.net',\n",
      "    'report_unknown_fields': False,\n",
      "    '_request': < yandex_music.utils.request.Request object at 0x00000240619FB580 > ,\n",
      "    'language': 'ru',\n",
      "    'device': 'os=Python; os_version=; manufacturer=Marshal; model=Yandex Music API; clid=; device_id=random; uuid=random',\n",
      "    'me': {\n",
      "        'account': {\n",
      "            'now': '2022-10-05T17:55:20+00:00',\n",
      "            'service_available': True,\n",
      "            'region': 225,\n",
      "            'uid': 22868995,\n",
      "            'login': 'asmfc',\n",
      "            'full_name': 'Мотор Саша',\n",
      "            'second_name': 'Мотор',\n",
      "            'first_name': 'Саша',\n",
      "            'display_name': 'Саша Мотор',\n",
      "            'hosted_user': False,\n",
      "            'birthday': '1987-06-04',\n",
      "            'passport_phones': [{\n",
      "                'phone': '+79060597475'\n",
      "            }],\n",
      "            'registered_at': '2015-01-20T15:07:38+00:00',\n",
      "            'has_info_for_app_metrica': False\n",
      "        },\n",
      "        'permissions': {\n",
      "            'until': '2022-10-26T06:55:50+00:00',\n",
      "            'values': ['landing-play', 'feed-play', 'radio-play', 'mix-play', 'radio-skips', 'library-cache', 'library-play', 'high-quality', 'ads-skips', 'non-shuffled-play', 'background-play', 'play-premium-tracks', 'auto-flow', 'play-full-tracks', 'play-radio-full-tracks'],\n",
      "            'default': ['landing-play', 'feed-play', 'radio-play', 'mix-play', 'play-radio-full-tracks']\n",
      "        },\n",
      "        'advertisement': 'Оформите постоянную подписку – первый месяц бесплатно!',\n",
      "        'subscription': {\n",
      "            'non_auto_renewable_remainder': {\n",
      "                'days': 0\n",
      "            },\n",
      "            'auto_renewable': [{\n",
      "                'expires': '2022-10-26T09:55:50+03:00',\n",
      "                'vendor': 'Yandex',\n",
      "                'vendor_help_url': 'https://www.yandex.ru/support/music-app/subscription.xml',\n",
      "                'product': {\n",
      "                    'product_id': 'ru.yandex.plus.mercury.common-p30d-169rub/299rub',\n",
      "                    'type': 'subscription',\n",
      "                    'common_period_duration': 'P30D',\n",
      "                    'duration': 30,\n",
      "                    'trial_duration': 0,\n",
      "                    'price': {\n",
      "                        'amount': 169.0,\n",
      "                        'currency': 'RUB'\n",
      "                    },\n",
      "                    'feature': 'new-plus',\n",
      "                    'debug': False,\n",
      "                    'plus': True,\n",
      "                    'cheapest': None,\n",
      "                    'title': None,\n",
      "                    'family_sub': None,\n",
      "                    'fb_image': None,\n",
      "                    'fb_name': None,\n",
      "                    'family': True,\n",
      "                    'features': ['basic-music', 'passport-family', 'music-src-default', 'basic-kinopoisk', 'basic-plus'],\n",
      "                    'description': None,\n",
      "                    'available': None,\n",
      "                    'trial_available': None,\n",
      "                    'trial_period_duration': None,\n",
      "                    'intro_period_duration': None,\n",
      "                    'intro_price': None,\n",
      "                    'start_period_duration': None,\n",
      "                    'start_price': None,\n",
      "                    'licence_text_parts': [],\n",
      "                    'vendor_trial_available': None,\n",
      "                    'button_text': None,\n",
      "                    'button_additional_text': None,\n",
      "                    'payment_method_types': None\n",
      "                },\n",
      "                'finished': False,\n",
      "                'master_info': None,\n",
      "                'product_id': 'ru.yandex.plus.mercury.common-p30d-169rub/299rub',\n",
      "                'order_id': 373185149\n",
      "            }],\n",
      "            'family_auto_renewable': [],\n",
      "            'operator': [],\n",
      "            'non_auto_renewable': None,\n",
      "            'can_start_trial': False,\n",
      "            'mcdonalds': False,\n",
      "            'end': None\n",
      "        },\n",
      "        'cache_limit': None,\n",
      "        'subeditor': False,\n",
      "        'subeditor_level': 0,\n",
      "        'plus': {\n",
      "            'has_plus': True,\n",
      "            'is_tutorial_completed': True\n",
      "        },\n",
      "        'default_email': 'asmfc@yandex.ru',\n",
      "        'skips_per_hour': None,\n",
      "        'station_exists': None,\n",
      "        'station_data': None,\n",
      "        'bar_below': None,\n",
      "        'premium_region': None,\n",
      "        'experiment': None\n",
      "    }\n",
      "}\n"
     ]
    }
   ],
   "source": [
    "print(jsbeautifier.beautify(str(ya_music)))"
   ]
  },
  {
   "cell_type": "code",
   "execution_count": 16,
   "id": "703d9591",
   "metadata": {},
   "outputs": [
    {
     "data": {
      "text/plain": [
       "{'logger': <Logger yandex_music.client (WARNING)>, 'token': 'AQAAAAABXPQDAAG8XnMPg_r6L0JCtc_Ehhrs-hA', 'base_url': 'https://api.music.yandex.net', 'report_unknown_fields': False, '_request': <yandex_music.utils.request.Request object at 0x00000240619FB580>, 'language': 'ru', 'device': 'os=Python; os_version=; manufacturer=Marshal; model=Yandex Music API; clid=; device_id=random; uuid=random', 'me': {'account': {'now': '2022-10-05T17:55:20+00:00', 'service_available': True, 'region': 225, 'uid': 22868995, 'login': 'asmfc', 'full_name': 'Мотор Саша', 'second_name': 'Мотор', 'first_name': 'Саша', 'display_name': 'Саша Мотор', 'hosted_user': False, 'birthday': '1987-06-04', 'passport_phones': [{'phone': '+79060597475'}], 'registered_at': '2015-01-20T15:07:38+00:00', 'has_info_for_app_metrica': False}, 'permissions': {'until': '2022-10-26T06:55:50+00:00', 'values': ['landing-play', 'feed-play', 'radio-play', 'mix-play', 'radio-skips', 'library-cache', 'library-play', 'high-quality', 'ads-skips', 'non-shuffled-play', 'background-play', 'play-premium-tracks', 'auto-flow', 'play-full-tracks', 'play-radio-full-tracks'], 'default': ['landing-play', 'feed-play', 'radio-play', 'mix-play', 'play-radio-full-tracks']}, 'advertisement': 'Оформите постоянную подписку – первый месяц бесплатно!', 'subscription': {'non_auto_renewable_remainder': {'days': 0}, 'auto_renewable': [{'expires': '2022-10-26T09:55:50+03:00', 'vendor': 'Yandex', 'vendor_help_url': 'https://www.yandex.ru/support/music-app/subscription.xml', 'product': {'product_id': 'ru.yandex.plus.mercury.common-p30d-169rub/299rub', 'type': 'subscription', 'common_period_duration': 'P30D', 'duration': 30, 'trial_duration': 0, 'price': {'amount': 169.0, 'currency': 'RUB'}, 'feature': 'new-plus', 'debug': False, 'plus': True, 'cheapest': None, 'title': None, 'family_sub': None, 'fb_image': None, 'fb_name': None, 'family': True, 'features': ['basic-music', 'passport-family', 'music-src-default', 'basic-kinopoisk', 'basic-plus'], 'description': None, 'available': None, 'trial_available': None, 'trial_period_duration': None, 'intro_period_duration': None, 'intro_price': None, 'start_period_duration': None, 'start_price': None, 'licence_text_parts': [], 'vendor_trial_available': None, 'button_text': None, 'button_additional_text': None, 'payment_method_types': None}, 'finished': False, 'master_info': None, 'product_id': 'ru.yandex.plus.mercury.common-p30d-169rub/299rub', 'order_id': 373185149}], 'family_auto_renewable': [], 'operator': [], 'non_auto_renewable': None, 'can_start_trial': False, 'mcdonalds': False, 'end': None}, 'cache_limit': None, 'subeditor': False, 'subeditor_level': 0, 'plus': {'has_plus': True, 'is_tutorial_completed': True}, 'default_email': 'asmfc@yandex.ru', 'skips_per_hour': None, 'station_exists': None, 'station_data': None, 'bar_below': None, 'premium_region': None, 'experiment': None}}"
      ]
     },
     "execution_count": 16,
     "metadata": {},
     "output_type": "execute_result"
    }
   ],
   "source": [
    "ya_music"
   ]
  },
  {
   "cell_type": "code",
   "execution_count": 15,
   "id": "a0a3a81d",
   "metadata": {},
   "outputs": [
    {
     "data": {
      "text/plain": [
       "{'logger': <Logger yandex_music.client (WARNING)>, 'token': 'AQAAAAABXPQDAAG8XnMPg_r6L0JCtc_Ehhrs-hA', 'base_url': 'https://api.music.yandex.net', 'report_unknown_fields': False, '_request': <yandex_music.utils.request.Request object at 0x00000240619FB580>, 'language': 'ru', 'device': 'os=Python; os_version=; manufacturer=Marshal; model=Yandex Music API; clid=; device_id=random; uuid=random', 'me': {'account': {'now': '2022-10-05T17:55:20+00:00', 'service_available': True, 'region': 225, 'uid': 22868995, 'login': 'asmfc', 'full_name': 'Мотор Саша', 'second_name': 'Мотор', 'first_name': 'Саша', 'display_name': 'Саша Мотор', 'hosted_user': False, 'birthday': '1987-06-04', 'passport_phones': [{'phone': '+79060597475'}], 'registered_at': '2015-01-20T15:07:38+00:00', 'has_info_for_app_metrica': False}, 'permissions': {'until': '2022-10-26T06:55:50+00:00', 'values': ['landing-play', 'feed-play', 'radio-play', 'mix-play', 'radio-skips', 'library-cache', 'library-play', 'high-quality', 'ads-skips', 'non-shuffled-play', 'background-play', 'play-premium-tracks', 'auto-flow', 'play-full-tracks', 'play-radio-full-tracks'], 'default': ['landing-play', 'feed-play', 'radio-play', 'mix-play', 'play-radio-full-tracks']}, 'advertisement': 'Оформите постоянную подписку – первый месяц бесплатно!', 'subscription': {'non_auto_renewable_remainder': {'days': 0}, 'auto_renewable': [{'expires': '2022-10-26T09:55:50+03:00', 'vendor': 'Yandex', 'vendor_help_url': 'https://www.yandex.ru/support/music-app/subscription.xml', 'product': {'product_id': 'ru.yandex.plus.mercury.common-p30d-169rub/299rub', 'type': 'subscription', 'common_period_duration': 'P30D', 'duration': 30, 'trial_duration': 0, 'price': {'amount': 169.0, 'currency': 'RUB'}, 'feature': 'new-plus', 'debug': False, 'plus': True, 'cheapest': None, 'title': None, 'family_sub': None, 'fb_image': None, 'fb_name': None, 'family': True, 'features': ['basic-music', 'passport-family', 'music-src-default', 'basic-kinopoisk', 'basic-plus'], 'description': None, 'available': None, 'trial_available': None, 'trial_period_duration': None, 'intro_period_duration': None, 'intro_price': None, 'start_period_duration': None, 'start_price': None, 'licence_text_parts': [], 'vendor_trial_available': None, 'button_text': None, 'button_additional_text': None, 'payment_method_types': None}, 'finished': False, 'master_info': None, 'product_id': 'ru.yandex.plus.mercury.common-p30d-169rub/299rub', 'order_id': 373185149}], 'family_auto_renewable': [], 'operator': [], 'non_auto_renewable': None, 'can_start_trial': False, 'mcdonalds': False, 'end': None}, 'cache_limit': None, 'subeditor': False, 'subeditor_level': 0, 'plus': {'has_plus': True, 'is_tutorial_completed': True}, 'default_email': 'asmfc@yandex.ru', 'skips_per_hour': None, 'station_exists': None, 'station_data': None, 'bar_below': None, 'premium_region': None, 'experiment': None}}"
      ]
     },
     "execution_count": 15,
     "metadata": {},
     "output_type": "execute_result"
    }
   ],
   "source": [
    "ya_music.users_likes_tracks()[1].client"
   ]
  },
  {
   "cell_type": "code",
   "execution_count": 8,
   "id": "22cfff8c",
   "metadata": {},
   "outputs": [
    {
     "data": {
      "text/plain": [
       "[{'id': '17502125', 'title': 'Peanut Butter', 'available': True, 'artists': [{'id': 2893121, 'error': None, 'reason': None, 'name': 'Compass Point All Stars', 'cover': None, 'various': False, 'composer': False, 'genres': [], 'og_image': None, 'op_image': None, 'no_pictures_from_search': None, 'counts': None, 'available': None, 'ratings': None, 'links': [], 'tickets_available': None, 'likes_count': None, 'popular_tracks': [], 'regions': None, 'decomposed': None, 'full_names': None, 'hand_made_description': None, 'description': None, 'countries': None, 'en_wikipedia_link': None, 'db_aliases': None, 'aliases': None, 'init_date': None, 'end_date': None, 'ya_money_id': None}], 'albums': [{'id': 15323517, 'error': None, 'title': 'Nightclubbing', 'track_count': 22, 'artists': [{'id': 8902, 'error': None, 'reason': None, 'name': 'Grace Jones', 'cover': {'type': 'from-album-cover', 'uri': 'avatars.yandex.net/get-music-content/4489759/e0cc0cc7.a.15323517-1/%%', 'items_uri': None, 'dir': None, 'version': None, 'custom': None, 'is_custom': None, 'copyright_name': None, 'copyright_cline': None, 'prefix': 'e0cc0cc7.a.15323517-1', 'error': None}, 'various': False, 'composer': False, 'genres': [], 'og_image': None, 'op_image': None, 'no_pictures_from_search': None, 'counts': None, 'available': None, 'ratings': None, 'links': [], 'tickets_available': None, 'likes_count': None, 'popular_tracks': [], 'regions': None, 'decomposed': None, 'full_names': None, 'hand_made_description': None, 'description': None, 'countries': None, 'en_wikipedia_link': None, 'db_aliases': None, 'aliases': None, 'init_date': None, 'end_date': None, 'ya_money_id': None}], 'labels': [{'id': 1077371, 'name': 'Island Records'}], 'available': True, 'available_for_premium_users': True, 'version': None, 'cover_uri': 'avatars.yandex.net/get-music-content/4489759/e0cc0cc7.a.15323517-1/%%', 'content_warning': None, 'original_release_year': None, 'genre': 'disco', 'text_color': None, 'short_description': None, 'description': None, 'is_premiere': None, 'is_banner': None, 'meta_type': 'music', 'storage_dir': None, 'og_image': 'avatars.yandex.net/get-music-content/4489759/e0cc0cc7.a.15323517-1/%%', 'buy': None, 'recent': False, 'very_important': False, 'available_for_mobile': True, 'available_partially': False, 'bests': [43163, 17502119, 17502118], 'duplicates': [], 'prerolls': None, 'volumes': None, 'year': 1981, 'release_date': '1981-05-11T00:00:00+04:00', 'type': None, 'track_position': {'volume': 2, 'index': 10}, 'regions': None, 'available_as_rbt': None, 'lyrics_available': None, 'remember_position': None, 'albums': [], 'duration_ms': None, 'explicit': None, 'start_date': None, 'likes_count': 112, 'deprecation': None, 'available_regions': None}], 'available_for_premium_users': True, 'lyrics_available': False, 'poetry_lover_matches': [], 'best': None, 'real_id': '17502125', 'og_image': 'avatars.yandex.net/get-music-content/4489759/e0cc0cc7.a.15323517-1/%%', 'type': 'music', 'cover_uri': 'avatars.yandex.net/get-music-content/4489759/e0cc0cc7.a.15323517-1/%%', 'major': {'id': 1, 'name': 'UNIVERSAL_MUSIC'}, 'duration_ms': 311190, 'storage_dir': '51327_109b74ca.36526310.1.609676', 'file_size': 0, 'substituted': None, 'matched_track': None, 'normalization': None, 'error': None, 'can_publish': None, 'state': None, 'desired_visibility': None, 'filename': None, 'user_info': None, 'meta_data': None, 'regions': None, 'available_as_rbt': None, 'content_warning': None, 'explicit': None, 'preview_duration_ms': 30000, 'available_full_without_permission': False, 'version': 'Remastered 2013', 'remember_position': False, 'background_video_uri': None, 'short_description': None, 'is_suitable_for_children': None, 'download_info': None}]"
      ]
     },
     "execution_count": 8,
     "metadata": {},
     "output_type": "execute_result"
    }
   ],
   "source": [
    "ya_music.tracks(17502125)"
   ]
  },
  {
   "cell_type": "code",
   "execution_count": 9,
   "id": "aecd541d",
   "metadata": {},
   "outputs": [
    {
     "data": {
      "text/plain": [
       "{'id': '17502114', 'timestamp': '2022-10-02T13:20:37+00:00', 'album_id': '15323517', 'play_count': None, 'recent': None, 'chart': None, 'track': None}"
      ]
     },
     "execution_count": 9,
     "metadata": {},
     "output_type": "execute_result"
    }
   ],
   "source": [
    "ya_music.users_likes_tracks()[3]"
   ]
  },
  {
   "cell_type": "code",
   "execution_count": 10,
   "id": "a25e4819",
   "metadata": {},
   "outputs": [
    {
     "data": {
      "text/plain": [
       "'{\"id\": 15323517, \"error\": null, \"title\": \"Nightclubbing\", \"track_count\": 22, \"artists\": [{\"id\": 8902, \"error\": null, \"reason\": null, \"name\": \"Grace Jones\", \"cover\": {\"type\": \"from-album-cover\", \"uri\": \"avatars.yandex.net/get-music-content/4489759/e0cc0cc7.a.15323517-1/%%\", \"items_uri\": null, \"dir\": null, \"version\": null, \"custom\": null, \"is_custom\": null, \"copyright_name\": null, \"copyright_cline\": null, \"prefix\": \"e0cc0cc7.a.15323517-1\", \"error\": null}, \"various\": false, \"composer\": false, \"genres\": [], \"og_image\": null, \"op_image\": null, \"no_pictures_from_search\": null, \"counts\": null, \"available\": null, \"ratings\": null, \"links\": [], \"tickets_available\": null, \"likes_count\": null, \"popular_tracks\": [], \"regions\": null, \"decomposed\": null, \"full_names\": null, \"hand_made_description\": null, \"description\": null, \"countries\": null, \"en_wikipedia_link\": null, \"db_aliases\": null, \"aliases\": null, \"init_date\": null, \"end_date\": null, \"ya_money_id\": null}], \"labels\": [{\"id\": 1077371, \"name\": \"Island Records\"}], \"available\": true, \"available_for_premium_users\": true, \"version\": null, \"cover_uri\": \"avatars.yandex.net/get-music-content/4489759/e0cc0cc7.a.15323517-1/%%\", \"content_warning\": null, \"original_release_year\": null, \"genre\": \"disco\", \"text_color\": null, \"short_description\": null, \"description\": null, \"is_premiere\": null, \"is_banner\": null, \"meta_type\": \"music\", \"storage_dir\": null, \"og_image\": \"avatars.yandex.net/get-music-content/4489759/e0cc0cc7.a.15323517-1/%%\", \"buy\": null, \"recent\": false, \"very_important\": false, \"available_for_mobile\": true, \"available_partially\": false, \"bests\": [43163, 17502119, 17502118], \"duplicates\": [], \"prerolls\": null, \"volumes\": null, \"year\": 1981, \"release_date\": \"1981-05-11T00:00:00+04:00\", \"type\": null, \"track_position\": null, \"regions\": null, \"available_as_rbt\": null, \"lyrics_available\": null, \"remember_position\": null, \"albums\": [], \"duration_ms\": null, \"explicit\": null, \"start_date\": null, \"likes_count\": 112, \"deprecation\": null, \"available_regions\": null}'"
      ]
     },
     "execution_count": 10,
     "metadata": {},
     "output_type": "execute_result"
    }
   ],
   "source": [
    "ya_music.albums(15323517)[0].to_json()"
   ]
  },
  {
   "cell_type": "code",
   "execution_count": 11,
   "id": "34e28c28",
   "metadata": {},
   "outputs": [],
   "source": [
    "ya_music.users_likes_tracks()[1].fetch_track().download(save_path.joinpath(\"2.mp3\"), 'mp3', 320)"
   ]
  },
  {
   "cell_type": "code",
   "execution_count": 12,
   "id": "c09401bb",
   "metadata": {},
   "outputs": [
    {
     "ename": "FileNotFoundError",
     "evalue": "[WinError 2] Не удается найти указанный файл: 'C:\\\\Users\\\\okean\\\\Downloads\\\\!Cometa\\\\1.mp3'",
     "output_type": "error",
     "traceback": [
      "\u001b[1;31m---------------------------------------------------------------------------\u001b[0m",
      "\u001b[1;31mFileNotFoundError\u001b[0m                         Traceback (most recent call last)",
      "Input \u001b[1;32mIn [12]\u001b[0m, in \u001b[0;36m<cell line: 1>\u001b[1;34m()\u001b[0m\n\u001b[1;32m----> 1\u001b[0m \u001b[43msave_path\u001b[49m\u001b[38;5;241;43m.\u001b[39;49m\u001b[43mjoinpath\u001b[49m\u001b[43m(\u001b[49m\u001b[38;5;124;43m\"\u001b[39;49m\u001b[38;5;124;43m1.mp3\u001b[39;49m\u001b[38;5;124;43m\"\u001b[39;49m\u001b[43m)\u001b[49m\u001b[38;5;241;43m.\u001b[39;49m\u001b[43mstat\u001b[49m\u001b[43m(\u001b[49m\u001b[43m)\u001b[49m\n",
      "File \u001b[1;32mC:\\Program Files\\Python310\\lib\\pathlib.py:1097\u001b[0m, in \u001b[0;36mPath.stat\u001b[1;34m(self, follow_symlinks)\u001b[0m\n\u001b[0;32m   1092\u001b[0m \u001b[38;5;28;01mdef\u001b[39;00m \u001b[38;5;21mstat\u001b[39m(\u001b[38;5;28mself\u001b[39m, \u001b[38;5;241m*\u001b[39m, follow_symlinks\u001b[38;5;241m=\u001b[39m\u001b[38;5;28;01mTrue\u001b[39;00m):\n\u001b[0;32m   1093\u001b[0m     \u001b[38;5;124;03m\"\"\"\u001b[39;00m\n\u001b[0;32m   1094\u001b[0m \u001b[38;5;124;03m    Return the result of the stat() system call on this path, like\u001b[39;00m\n\u001b[0;32m   1095\u001b[0m \u001b[38;5;124;03m    os.stat() does.\u001b[39;00m\n\u001b[0;32m   1096\u001b[0m \u001b[38;5;124;03m    \"\"\"\u001b[39;00m\n\u001b[1;32m-> 1097\u001b[0m     \u001b[38;5;28;01mreturn\u001b[39;00m \u001b[38;5;28;43mself\u001b[39;49m\u001b[38;5;241;43m.\u001b[39;49m\u001b[43m_accessor\u001b[49m\u001b[38;5;241;43m.\u001b[39;49m\u001b[43mstat\u001b[49m\u001b[43m(\u001b[49m\u001b[38;5;28;43mself\u001b[39;49m\u001b[43m,\u001b[49m\u001b[43m \u001b[49m\u001b[43mfollow_symlinks\u001b[49m\u001b[38;5;241;43m=\u001b[39;49m\u001b[43mfollow_symlinks\u001b[49m\u001b[43m)\u001b[49m\n",
      "\u001b[1;31mFileNotFoundError\u001b[0m: [WinError 2] Не удается найти указанный файл: 'C:\\\\Users\\\\okean\\\\Downloads\\\\!Cometa\\\\1.mp3'"
     ]
    }
   ],
   "source": [
    "save_path.joinpath(\"1.mp3\").stat()"
   ]
  },
  {
   "cell_type": "code",
   "execution_count": null,
   "id": "51de6ae4",
   "metadata": {},
   "outputs": [],
   "source": []
  }
 ],
 "metadata": {
  "kernelspec": {
   "display_name": "Python 3 (ipykernel)",
   "language": "python",
   "name": "python3"
  },
  "language_info": {
   "codemirror_mode": {
    "name": "ipython",
    "version": 3
   },
   "file_extension": ".py",
   "mimetype": "text/x-python",
   "name": "python",
   "nbconvert_exporter": "python",
   "pygments_lexer": "ipython3",
   "version": "3.10.6"
  },
  "toc": {
   "base_numbering": 1,
   "nav_menu": {},
   "number_sections": true,
   "sideBar": true,
   "skip_h1_title": true,
   "title_cell": "Содержание",
   "title_sidebar": "Содержание",
   "toc_cell": false,
   "toc_position": {},
   "toc_section_display": true,
   "toc_window_display": false
  }
 },
 "nbformat": 4,
 "nbformat_minor": 5
}
